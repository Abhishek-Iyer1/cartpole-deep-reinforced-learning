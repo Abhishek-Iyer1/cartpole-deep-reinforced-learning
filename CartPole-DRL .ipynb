{
 "cells": [
  {
   "cell_type": "markdown",
   "metadata": {},
   "source": [
    "## Installing Dependencies"
   ]
  },
  {
   "cell_type": "code",
   "execution_count": 10,
   "metadata": {},
   "outputs": [
    {
     "name": "stdout",
     "output_type": "stream",
     "text": [
      
     ]
    }
   ],
   "source": [
    "!pip install --upgrade ipykernel\n",
    "#!pip install tensorflow-gpu \n",
    "!pip install tensorflow==2.3.0\n",
    "!pip install keras\n",
    "!pip install gym\n",
    "!pip install keras-rl2 \n",
    "#!apt-get install build-essential python-dev swig python-pygame\n",
    "#!pip install box2d-py"
   ]
  },
  {
   "cell_type": "code",
   "execution_count": 11,
   "metadata": {},
   "outputs": [],
   "source": [
    "import tensorflow as tf\n",
    "import gym \n",
    "import numpy as np\n",
    "from tensorflow.keras.models import Sequential\n",
    "from tensorflow.keras.layers import Dense, Flatten\n",
    "from tensorflow.keras.optimizers import Adam"
   ]
  },
  {
   "cell_type": "markdown",
   "metadata": {},
   "source": [
    "## Testing Baseline with Random Movements "
   ]
  },
  {
   "cell_type": "code",
   "execution_count": 12,
   "metadata": {},
   "outputs": [
    {
     "name": "stdout",
     "output_type": "stream",
     "text": [
      "No. of States: 4, No. of Actions: 2\n"
     ]
    }
   ],
   "source": [
    "environment = gym.make('CartPole-v0')\n",
    "environment._max_episode_steps = 2500\n",
    "states = environment.observation_space.shape[0]\n",
    "actions = environment.action_space.n\n",
    "print(f'No. of States: {states}, No. of Actions: {actions}')"
   ]
  },
  {
   "cell_type": "code",
   "execution_count": 13,
   "metadata": {},
   "outputs": [
    {
     "name": "stdout",
     "output_type": "stream",
     "text": [
      "Episode: 1, Reward: 14.0\n",
      "Episode: 2, Reward: 13.0\n",
      "Episode: 3, Reward: 54.0\n",
      "Episode: 4, Reward: 29.0\n",
      "Episode: 5, Reward: 16.0\n",
      "Episode: 6, Reward: 12.0\n",
      "Episode: 7, Reward: 51.0\n",
      "Episode: 8, Reward: 35.0\n",
      "Episode: 9, Reward: 10.0\n",
      "Episode: 10, Reward: 13.0\n"
     ]
    }
   ],
   "source": [
    "episodes = 10\n",
    "for episode in range(1, episodes + 1):\n",
    "  observation = environment.reset()\n",
    "  score = 0\n",
    "  done = False\n",
    "\n",
    "  while done == False:\n",
    "    environment.render()\n",
    "    action = np.random.randint(0,2)\n",
    "    state, reward, done, info = environment.step(action)\n",
    "    score += reward\n",
    "  print(f'Episode: {episode}, Reward: {score}')\n",
    "environment.close()"
   ]
  },
  {
   "cell_type": "markdown",
   "metadata": {},
   "source": [
    "## Building our Deep Learning Model"
   ]
  },
  {
   "cell_type": "code",
   "execution_count": 14,
   "metadata": {},
   "outputs": [],
   "source": [
    "def build_model(states, actions):\n",
    "    model = Sequential([\n",
    "        Flatten(input_shape= (1, states)),\n",
    "        Dense(32, activation= 'relu'),\n",
    "        Dense(48, activation= 'relu'),\n",
    "        Dense(32, activation= 'relu'),\n",
    "        Dense(actions, activation= 'linear')\n",
    "    ])\n",
    "    return model"
   ]
  },
  {
   "cell_type": "code",
   "execution_count": 15,
   "metadata": {},
   "outputs": [
    {
     "name": "stdout",
     "output_type": "stream",
     "text": [
      "Model: \"sequential_1\"\n",
      "_________________________________________________________________\n",
      "Layer (type)                 Output Shape              Param #   \n",
      "=================================================================\n",
      "flatten_1 (Flatten)          (None, 4)                 0         \n",
      "_________________________________________________________________\n",
      "dense_4 (Dense)              (None, 32)                160       \n",
      "_________________________________________________________________\n",
      "dense_5 (Dense)              (None, 48)                1584      \n",
      "_________________________________________________________________\n",
      "dense_6 (Dense)              (None, 32)                1568      \n",
      "_________________________________________________________________\n",
      "dense_7 (Dense)              (None, 2)                 66        \n",
      "=================================================================\n",
      "Total params: 3,378\n",
      "Trainable params: 3,378\n",
      "Non-trainable params: 0\n",
      "_________________________________________________________________\n"
     ]
    }
   ],
   "source": [
    "model = build_model(states, actions)\n",
    "model.summary()"
   ]
  },
  {
   "cell_type": "markdown",
   "metadata": {},
   "source": [
    "## Defining RL Agent"
   ]
  },
  {
   "cell_type": "code",
   "execution_count": 16,
   "metadata": {},
   "outputs": [],
   "source": [
    "from rl.policy import BoltzmannQPolicy\n",
    "from rl.agents import DQNAgent\n",
    "from rl.memory import SequentialMemory"
   ]
  },
  {
   "cell_type": "code",
   "execution_count": 17,
   "metadata": {},
   "outputs": [],
   "source": [
    "def build_agent(model, actions):\n",
    "    memory = SequentialMemory(limit= 50000, window_length=1)\n",
    "    policy = BoltzmannQPolicy()\n",
    "    dqn = DQNAgent(model= model, policy= policy, memory= memory, nb_actions= actions, nb_steps_warmup=5, target_model_update= 1e-2)\n",
    "    return dqn"
   ]
  },
  {
   "cell_type": "markdown",
   "metadata": {},
   "source": [
    "## Train and Test"
   ]
  },
  {
   "cell_type": "code",
   "execution_count": 18,
   "metadata": {
    "scrolled": true
   },
   "outputs": [
    {
     "name": "stdout",
     "output_type": "stream",
     "text": [
      "Training for 50000 steps ...\n",
      "Interval 1 (0 steps performed)\n",
      "WARNING:tensorflow:From C:\\Users\\archi\\anaconda3\\lib\\site-packages\\tensorflow\\python\\keras\\engine\\training_v1.py:2070: Model.state_updates (from tensorflow.python.keras.engine.training) is deprecated and will be removed in a future version.\n",
      "Instructions for updating:\n",
      "This property should not be used in TensorFlow 2.0, as updates are applied automatically.\n",
      "    1/10000 [..............................] - ETA: 6:08 - reward: 1.0000"
     ]
    },
    {
     "name": "stdout",
     "output_type": "stream",
     "text": [
      "10000/10000 [==============================] - 39s 4ms/step - reward: 1.0000\n",
      "85 episodes - episode_reward: 115.118 [9.000, 335.000] - loss: 1.168 - mae: 19.198 - mean_q: 39.060\n",
      "\n",
      "Interval 2 (10000 steps performed)\n",
      "10000/10000 [==============================] - 39s 4ms/step - reward: 1.0000\n",
      "48 episodes - episode_reward: 212.042 [157.000, 377.000] - loss: 5.842 - mae: 43.119 - mean_q: 87.019\n",
      "\n",
      "Interval 3 (20000 steps performed)\n",
      "10000/10000 [==============================] - 40s 4ms/step - reward: 1.0000\n",
      "43 episodes - episode_reward: 233.093 [153.000, 486.000] - loss: 1.446 - mae: 44.349 - mean_q: 89.422\n",
      "\n",
      "Interval 4 (30000 steps performed)\n",
      "10000/10000 [==============================] - 41s 4ms/step - reward: 1.0000\n",
      "12 episodes - episode_reward: 807.583 [191.000, 2500.000] - loss: 1.162 - mae: 42.846 - mean_q: 86.170\n",
      "\n",
      "Interval 5 (40000 steps performed)\n",
      "10000/10000 [==============================] - 41s 4ms/step - reward: 1.0000\n",
      "done, took 199.292 seconds\n"
     ]
    },
    {
     "data": {
      "text/plain": [
       "<tensorflow.python.keras.callbacks.History at 0x28aa5a4c9a0>"
      ]
     },
     "execution_count": 18,
     "metadata": {},
     "output_type": "execute_result"
    }
   ],
   "source": [
    "dqn = build_agent(model, actions)\n",
    "dqn.compile(Adam(lr= 1e-3), metrics=['mae'])\n",
    "dqn.fit(environment, nb_steps=50000, verbose=1, visualize=False)"
   ]
  },
  {
   "cell_type": "code",
   "execution_count": 20,
   "metadata": {},
   "outputs": [
    {
     "name": "stdout",
     "output_type": "stream",
     "text": [
      "Testing for 1 episodes ...\n",
      "Episode 1: reward: 2500.000, steps: 2500\n",
      "2500.0\n"
     ]
    }
   ],
   "source": [
    "scores = dqn.test(environment, nb_episodes=1, visualize=True)\n",
    "print(np.mean(scores.history['episode_reward']))"
   ]
  },
  {
   "cell_type": "code",
   "execution_count": 19,
   "metadata": {},
   "outputs": [],
   "source": [
    "dqn.save_weights('dqn_weights.h5', overwrite= True)"
   ]
  },
  {
   "cell_type": "code",
   "execution_count": 28,
   "metadata": {},
   "outputs": [],
   "source": [
    "dqn.load_weights('dqn_weights.h5')"
   ]
  }
 ],
 "metadata": {
  "kernelspec": {
   "display_name": "Python 3",
   "language": "python",
   "name": "python3"
  },
  "language_info": {
   "codemirror_mode": {
    "name": "ipython",
    "version": 3
   },
   "file_extension": ".py",
   "mimetype": "text/x-python",
   "name": "python",
   "nbconvert_exporter": "python",
   "pygments_lexer": "ipython3",
   "version": "3.8.5"
  }
 },
 "nbformat": 4,
 "nbformat_minor": 4
}
